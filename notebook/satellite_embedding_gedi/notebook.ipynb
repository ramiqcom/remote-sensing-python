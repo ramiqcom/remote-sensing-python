{
 "cells": [
  {
   "cell_type": "code",
   "execution_count": 96,
   "id": "b314808c",
   "metadata": {},
   "outputs": [],
   "source": [
    "from concurrent.futures import ThreadPoolExecutor, as_completed\n",
    "from logging import INFO, basicConfig, getLogger\n",
    "\n",
    "import geopandas as gpd\n",
    "import matplotlib.pyplot as plt\n",
    "import numpy as np\n",
    "import rasterio as rio\n",
    "from sklearn.metrics import mean_absolute_error\n",
    "from sklearn.model_selection import train_test_split\n",
    "from xgboost import XGBRFRegressor\n",
    "import pandas as pd"
   ]
  },
  {
   "cell_type": "code",
   "execution_count": 39,
   "id": "09178f0d",
   "metadata": {},
   "outputs": [],
   "source": [
    "basicConfig(\n",
    "    level=INFO,\n",
    "    format=\"%(asctime)s - %(name)s - %(message)s\",\n",
    "    datefmt=\"%Y-%m-%d %H:%M:%S\",\n",
    ")\n",
    "logger = getLogger(__name__)"
   ]
  },
  {
   "cell_type": "code",
   "execution_count": null,
   "id": "a4c17395",
   "metadata": {},
   "outputs": [],
   "source": [
    "# Max worker\n",
    "WORKERS = 16\n",
    "\n",
    "# image paths\n",
    "satellite_embedding = \"satellite_embedding.tif\"\n",
    "\n",
    "# bands\n",
    "bands = [f\"A{no:02d}\" for no in range(64)]\n",
    "\n",
    "# Sample paths\n",
    "samples = [\n",
    "    dict(name=\"CHM\", path=\"GEDI_GEDI02_A.fgb\", unit=\"meter\"),\n",
    "    dict(name=\"treecover\", path=\"GEDI_GEDI02_B.fgb\", unit=\"%\"),\n",
    "    dict(name=\"AGB\", path=\"GEDI_GEDI04_A.fgb\", unit=\"Ton/Ha\"),\n",
    "]\n"
   ]
  },
  {
   "cell_type": "code",
   "execution_count": null,
   "id": "124b72f0",
   "metadata": {},
   "outputs": [
    {
     "name": "stdout",
     "output_type": "stream",
     "text": [
      "Extracting CHM sample\n",
      "Extracting treecover sample\n",
      "Extracting AGB sample\n"
     ]
    }
   ],
   "source": [
    "# Function to extract\n",
    "def extract_sample(x):\n",
    "    sample_dict = samples[x]\n",
    "\n",
    "    print(f\"Extracting {sample_dict['name']} sample\")\n",
    "\n",
    "    path = sample_dict[\"path\"]\n",
    "    extract = gpd.read_file(path)\n",
    "    coords = [coord for coord in zip(extract.geometry.x, extract.geometry.y)]\n",
    "\n",
    "    with rio.open(satellite_embedding) as src:\n",
    "        extract[bands] = [data for data in src.sample(coords)]\n",
    "\n",
    "    del extract[\"geometry\"]\n",
    "\n",
    "    samples[x][\"extract\"] = extract\n",
    "\n",
    "\n",
    "# Run concurrent\n",
    "with ThreadPoolExecutor(WORKERS) as executor:\n",
    "    jobs = [executor.submit(extract_sample, x) for x in range(len(samples))]\n",
    "    as_completed(jobs)"
   ]
  },
  {
   "cell_type": "code",
   "execution_count": null,
   "id": "06a2b633",
   "metadata": {},
   "outputs": [
    {
     "name": "stdout",
     "output_type": "stream",
     "text": [
      "A03    0.324368\n",
      "A04    0.300962\n",
      "A62    0.261663\n",
      "A08    0.251686\n",
      "A52    0.239404\n",
      "A50    0.237373\n",
      "A58    0.233496\n",
      "A56    0.220947\n",
      "A26    0.190208\n",
      "A30    0.181636\n",
      "Name: CHM, dtype: float64\n",
      "A03    0.206534\n",
      "A04    0.198425\n",
      "A50    0.182283\n",
      "A30    0.167549\n",
      "A56    0.165789\n",
      "A08    0.165247\n",
      "A26    0.163799\n",
      "A47    0.159441\n",
      "A58    0.156091\n",
      "A52    0.149760\n",
      "Name: treecover, dtype: float64\n",
      "A03    0.389995\n",
      "A50    0.288297\n",
      "A52    0.288027\n",
      "A04    0.271961\n",
      "A58    0.265380\n",
      "A47    0.256163\n",
      "A62    0.244133\n",
      "A56    0.238786\n",
      "A24    0.205751\n",
      "A08    0.202145\n",
      "Name: AGB, dtype: float64\n"
     ]
    },
    {
     "data": {
      "text/plain": [
       "[None, None, None]"
      ]
     },
     "execution_count": 74,
     "metadata": {},
     "output_type": "execute_result"
    },
    {
     "data": {
      "text/plain": [
       "<Figure size 2000x6000 with 0 Axes>"
      ]
     },
     "metadata": {},
     "output_type": "display_data"
    }
   ],
   "source": [
    "plt.figure(figsize=(20, 60))\n",
    "\n",
    "\n",
    "# Function to check correlation between predictor and labels per sample\n",
    "def correlation(x):\n",
    "    sample_dict = samples[x]\n",
    "    name = sample_dict[\"name\"]\n",
    "    corr = sample_dict[\"extract\"].corr()\n",
    "    highest = corr[name].sort_values(ascending=False)\n",
    "    top_ten = highest.iloc[1:11]\n",
    "    print(top_ten)\n",
    "\n",
    "    samples[x][\"top_ten\"] = list(top_ten.index)\n",
    "\n",
    "\n",
    "# Run concurrent\n",
    "[correlation(x) for x in range(len(samples))]"
   ]
  },
  {
   "cell_type": "code",
   "execution_count": 95,
   "id": "99eca475",
   "metadata": {},
   "outputs": [
    {
     "name": "stdout",
     "output_type": "stream",
     "text": [
      "AGB MAE=59.23 Ton/Ha, R2=0.545\n",
      "treecover MAE=22.294 %, R2=0.388\n",
      "CHM MAE=6.798 meter, R2=0.56\n"
     ]
    }
   ],
   "source": [
    "# function to do modelling\n",
    "def modelling(x):\n",
    "    sample_dict = samples[x]\n",
    "    name = sample_dict[\"name\"]\n",
    "    extract = sample_dict[\"extract\"]\n",
    "    predictors = sample_dict[\"top_ten\"]\n",
    "\n",
    "    # split train and test\n",
    "    train, test = train_test_split(extract, test_size=0.3, random_state=1)\n",
    "\n",
    "    # train model\n",
    "    model = XGBRFRegressor(n_estimator=500)\n",
    "    model.fit(train[predictors], train[name])\n",
    "\n",
    "    # test the model\n",
    "    test_prediction = model.predict(test[predictors])\n",
    "    mae = mean_absolute_error(test[name], test_prediction)\n",
    "    r2 = np.corrcoef(test[name], test_prediction)[0, 1]\n",
    "    print(f\"{name} MAE={round(mae, 3)} {sample_dict[\"unit\"]}, R2={round(r2, 3)}\")\n",
    "\n",
    "    samples[x][\"model\"] = model\n",
    "\n",
    "with ThreadPoolExecutor(WORKERS) as executor:\n",
    "    jobs = [executor.submit(modelling, x) for x in range(len(samples))]\n",
    "    for job in jobs:\n",
    "        job.result()"
   ]
  },
  {
   "cell_type": "code",
   "execution_count": 98,
   "id": "4a0de15f",
   "metadata": {},
   "outputs": [],
   "source": [
    "# load the image\n",
    "with rio.open(satellite_embedding) as src:\n",
    "    images = src.read()\n",
    "    table_images = images.transpose(1, 2, 0)\n",
    "    table_images = pd.DataFrame(table_images.reshape(-1, src.count), columns=bands)\n",
    "    valid_mask = table_images[bands[0]] != src.nodata\n",
    "    valid_table = table_images[valid_mask]"
   ]
  },
  {
   "cell_type": "code",
   "execution_count": null,
   "id": "195ecc7c",
   "metadata": {},
   "outputs": [],
   "source": [
    "# Apply the model\n",
    "def apply_model(x):\n",
    "    sample_dict = samples[x]\n",
    "    name = sample_dict[\"name\"]\n",
    "    extract = sample_dict[\"extract\"]\n",
    "    predictors = bands\n",
    "    model = sample_dict[\"model\"]\n",
    "\n",
    "    prediction = model.predict(valid_table[predictors])\n",
    "    table_images = table_images.loc[valid_mask, name] = prediction\n",
    "    table_images = table_images.loc[~valid_mask, name] = -9999\n"
   ]
  }
 ],
 "metadata": {
  "kernelspec": {
   "display_name": ".venv (3.12.0)",
   "language": "python",
   "name": "python3"
  },
  "language_info": {
   "codemirror_mode": {
    "name": "ipython",
    "version": 3
   },
   "file_extension": ".py",
   "mimetype": "text/x-python",
   "name": "python",
   "nbconvert_exporter": "python",
   "pygments_lexer": "ipython3",
   "version": "3.12.0"
  }
 },
 "nbformat": 4,
 "nbformat_minor": 5
}
