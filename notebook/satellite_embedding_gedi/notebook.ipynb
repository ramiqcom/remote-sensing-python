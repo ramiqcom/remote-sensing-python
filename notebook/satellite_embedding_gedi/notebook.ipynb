{
 "cells": [
  {
   "cell_type": "code",
   "execution_count": 2,
   "id": "b314808c",
   "metadata": {},
   "outputs": [],
   "source": [
    "import rasterio as rio\n",
    "import geopandas as gpd\n",
    "from xgboost import XGBRFRegressor\n",
    "from sklearn.metrics import mean_absolute_error\n",
    "from sklearn.model_selection import train_test_split\n",
    "import matplotlib.pyplot as plt"
   ]
  },
  {
   "cell_type": "code",
   "execution_count": null,
   "id": "a4c17395",
   "metadata": {},
   "outputs": [],
   "source": [
    "\n",
    "\n",
    "# Sample paths\n",
    "samples = [\n",
    "    dict(name=\"CHM\", path=\"GEDI_GEDI02_A.fgb\"),\n",
    "    dict(name=\"treecover\", path=\"GEDI_GEDI02_B.fgb\"),\n",
    "    dict(name=\"AGB\", path=\"GEDI_GEDI04_A.fgb\"),\n",
    "]\n"
   ]
  },
  {
   "cell_type": "code",
   "execution_count": null,
   "id": "124b72f0",
   "metadata": {},
   "outputs": [],
   "source": []
  },
  {
   "cell_type": "code",
   "execution_count": null,
   "id": "06a2b633",
   "metadata": {},
   "outputs": [],
   "source": [
    "# Function to extract samples from images"
   ]
  }
 ],
 "metadata": {
  "kernelspec": {
   "display_name": ".venv (3.12.0)",
   "language": "python",
   "name": "python3"
  },
  "language_info": {
   "codemirror_mode": {
    "name": "ipython",
    "version": 3
   },
   "file_extension": ".py",
   "mimetype": "text/x-python",
   "name": "python",
   "nbconvert_exporter": "python",
   "pygments_lexer": "ipython3",
   "version": "3.12.0"
  }
 },
 "nbformat": 4,
 "nbformat_minor": 5
}
